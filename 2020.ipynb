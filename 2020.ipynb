{
 "cells": [
  {
   "cell_type": "code",
   "execution_count": 27,
   "id": "c6b48975-3172-409a-8ea8-a4b4aeaa759d",
   "metadata": {
    "tags": []
   },
   "outputs": [],
   "source": [
    "import pandas as pd\n",
    "from itertools import cycle\n",
    "import os"
   ]
  },
  {
   "cell_type": "code",
   "execution_count": 28,
   "id": "bb323e93-06a7-4326-9f0f-ab0e4c5b1777",
   "metadata": {
    "tags": []
   },
   "outputs": [],
   "source": [
    "df1 = pd.read_csv(r\"C:\\Users\\noyon\\Documents\\Tableau_challenge\\2020\\JC-202001-citibike-tripdata.csv\")"
   ]
  },
  {
   "cell_type": "code",
   "execution_count": 29,
   "id": "e1fd7584-d28c-4fe9-914d-f231bf716682",
   "metadata": {
    "tags": []
   },
   "outputs": [],
   "source": [
    "month1 = cycle(['January 2020'])\n",
    "df1['Month'] = [next(month1) for m in range(len(df1))]"
   ]
  },
  {
   "cell_type": "code",
   "execution_count": 30,
   "id": "154146d8-ac46-41d7-8b1b-615f9bc4d090",
   "metadata": {
    "tags": []
   },
   "outputs": [],
   "source": [
    "df2 = pd.read_csv(r\"C:\\Users\\noyon\\Documents\\Tableau_challenge\\2020\\JC-202002-citibike-tripdata.csv\")"
   ]
  },
  {
   "cell_type": "code",
   "execution_count": 31,
   "id": "67dad76e-1d10-43bf-9fce-9d8542248a80",
   "metadata": {
    "tags": []
   },
   "outputs": [],
   "source": [
    "month2 = cycle(['February 2020'])\n",
    "df2['Month'] = [next(month2) for o in range(len(df2))]"
   ]
  },
  {
   "cell_type": "code",
   "execution_count": 32,
   "id": "1fd4fc44-16c7-4def-9e1f-742cedda0773",
   "metadata": {
    "tags": []
   },
   "outputs": [],
   "source": [
    "data_merge1 = pd.concat([df1, df2], ignore_index=True)"
   ]
  },
  {
   "cell_type": "code",
   "execution_count": 33,
   "id": "dad0a1fb-466a-4b1c-976e-55cb11f65a95",
   "metadata": {
    "tags": []
   },
   "outputs": [],
   "source": [
    "df3 = pd.read_csv(r\"C:\\Users\\noyon\\Documents\\Tableau_challenge\\2020\\JC-202003-citibike-tripdata.csv\")"
   ]
  },
  {
   "cell_type": "code",
   "execution_count": 34,
   "id": "a6cda256-e7e8-4bf2-9072-7ae59073b849",
   "metadata": {
    "tags": []
   },
   "outputs": [],
   "source": [
    "month3 = cycle(['March 2020'])\n",
    "df3['Month'] = [next(month3) for n in range(len(df3))]"
   ]
  },
  {
   "cell_type": "code",
   "execution_count": 35,
   "id": "c88281b6-d725-447b-8d5b-80646257c68a",
   "metadata": {
    "tags": []
   },
   "outputs": [],
   "source": [
    "data_merge2 = pd.concat([data_merge1, df3], ignore_index=True)"
   ]
  },
  {
   "cell_type": "code",
   "execution_count": 36,
   "id": "75033679-3ec9-4ff1-814e-639aa1ee1d98",
   "metadata": {
    "tags": []
   },
   "outputs": [],
   "source": [
    "data_merge2.to_csv('results_data/data_2020.csv', index=False)"
   ]
  },
  {
   "cell_type": "code",
   "execution_count": null,
   "id": "c69046e6-09d0-422a-8ac4-9fe85286cb2f",
   "metadata": {},
   "outputs": [],
   "source": []
  }
 ],
 "metadata": {
  "kernelspec": {
   "display_name": "Python 3 (ipykernel)",
   "language": "python",
   "name": "python3"
  },
  "language_info": {
   "codemirror_mode": {
    "name": "ipython",
    "version": 3
   },
   "file_extension": ".py",
   "mimetype": "text/x-python",
   "name": "python",
   "nbconvert_exporter": "python",
   "pygments_lexer": "ipython3",
   "version": "3.10.11"
  }
 },
 "nbformat": 4,
 "nbformat_minor": 5
}
