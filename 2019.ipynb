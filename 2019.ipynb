{
 "cells": [
  {
   "cell_type": "code",
   "execution_count": 7,
   "id": "38f4c95e-6220-499c-8e58-ee1eda32e916",
   "metadata": {},
   "outputs": [],
   "source": [
    "import pandas as pd\n",
    "from itertools import cycle\n",
    "import os"
   ]
  },
  {
   "cell_type": "code",
   "execution_count": 19,
   "id": "a21b6dd4-57df-4f5f-ad5a-cfc66a4f62ff",
   "metadata": {},
   "outputs": [],
   "source": [
    "df1 = pd.read_csv(r\"C:\\Users\\noyon\\Documents\\Tableau_challenge\\2019\\JC-201907-citibike-tripdata.csv\")"
   ]
  },
  {
   "cell_type": "code",
   "execution_count": 20,
   "id": "c2264afd-31c7-4e20-b60d-949aa1922359",
   "metadata": {
    "tags": []
   },
   "outputs": [],
   "source": [
    "month1 = cycle(['July 2019'])\n",
    "df1['Month'] = [next(month1) for m in range(len(df1))]"
   ]
  },
  {
   "cell_type": "code",
   "execution_count": 21,
   "id": "4d8dc07d-59ab-4b31-a912-7ccc7186925f",
   "metadata": {
    "tags": []
   },
   "outputs": [],
   "source": [
    "df2 = pd.read_csv(r\"C:\\Users\\noyon\\Documents\\Tableau_challenge\\2019\\JC-201908-citibike-tripdata.csv\")"
   ]
  },
  {
   "cell_type": "code",
   "execution_count": 22,
   "id": "a353c282-7981-46ce-8462-d93b18b9a6bb",
   "metadata": {
    "tags": []
   },
   "outputs": [],
   "source": [
    "month2 = cycle(['August 2019'])\n",
    "df2['Month'] = [next(month2) for o in range(len(df2))]"
   ]
  },
  {
   "cell_type": "code",
   "execution_count": 24,
   "id": "8ed1c706-a178-472b-be2f-f60dbc069ccb",
   "metadata": {
    "tags": []
   },
   "outputs": [],
   "source": [
    "data_merge1 = pd.concat([df1, df2], ignore_index=True)"
   ]
  },
  {
   "cell_type": "code",
   "execution_count": 23,
   "id": "cfd278e0-b6d9-4695-b279-790be333b818",
   "metadata": {
    "tags": []
   },
   "outputs": [],
   "source": [
    "df3 = pd.read_csv(r\"C:\\Users\\noyon\\Documents\\Tableau_challenge\\2019\\JC-201909-citibike-tripdata.csv\")"
   ]
  },
  {
   "cell_type": "code",
   "execution_count": 25,
   "id": "8835ec6a-f1fb-4401-a1bc-36b83651723b",
   "metadata": {
    "tags": []
   },
   "outputs": [],
   "source": [
    "month3 = cycle(['September 2019'])\n",
    "df3['Month'] = [next(month3) for n in range(len(df3))]"
   ]
  },
  {
   "cell_type": "code",
   "execution_count": 26,
   "id": "66dfc6c8-fe75-4dc8-a424-c585feb0479f",
   "metadata": {
    "tags": []
   },
   "outputs": [],
   "source": [
    "data_merge2 = pd.concat([data_merge1, df3], ignore_index=True)"
   ]
  },
  {
   "cell_type": "code",
   "execution_count": 27,
   "id": "6ceef1ab-4b9c-486f-8393-00c1b2d4f2f8",
   "metadata": {
    "tags": []
   },
   "outputs": [],
   "source": [
    "df4 = pd.read_csv(r\"C:\\Users\\noyon\\Documents\\Tableau_challenge\\2019\\JC-2019010-citibike-tripdata.csv\")"
   ]
  },
  {
   "cell_type": "code",
   "execution_count": 28,
   "id": "6dfb5256-ec7e-4e83-9c5b-5eb26add4467",
   "metadata": {
    "tags": []
   },
   "outputs": [],
   "source": [
    "month4 = cycle(['October 2019'])\n",
    "df4['Month'] = [next(month3) for n in range(len(df3))]"
   ]
  },
  {
   "cell_type": "code",
   "execution_count": 29,
   "id": "585e4895-dd0d-47c6-8049-98cc2af7fbac",
   "metadata": {
    "tags": []
   },
   "outputs": [],
   "source": [
    "data_merge3 = pd.concat([data_merge2, df4], ignore_index=True)"
   ]
  },
  {
   "cell_type": "code",
   "execution_count": 33,
   "id": "95d48e88-ec2c-4cdc-ae98-3624f3ec3878",
   "metadata": {
    "tags": []
   },
   "outputs": [],
   "source": [
    "df5 = pd.read_csv(r\"C:\\Users\\noyon\\Documents\\Tableau_challenge\\2019\\JC-201911-citibike-tripdata.csv\")"
   ]
  },
  {
   "cell_type": "code",
   "execution_count": null,
   "id": "136e506b-809f-4e30-bae4-bd716f0ddda7",
   "metadata": {},
   "outputs": [],
   "source": [
    "month5 = cycle(['November 2019'])\n",
    "df5['Month'] = [next(month3) for n in range(len(df3))]"
   ]
  },
  {
   "cell_type": "code",
   "execution_count": 39,
   "id": "2228464b-5261-468f-a02d-bf0f643e997c",
   "metadata": {
    "tags": []
   },
   "outputs": [],
   "source": [
    "data_merge4 = pd.concat([data_merge3, df5], ignore_index=True)"
   ]
  },
  {
   "cell_type": "code",
   "execution_count": 41,
   "id": "a98e0c57-f4ad-4de5-90c0-3e8fc035536b",
   "metadata": {
    "tags": []
   },
   "outputs": [],
   "source": [
    "data_merge4.to_csv('results_data/data_2019.csv', index=False)"
   ]
  },
  {
   "cell_type": "code",
   "execution_count": null,
   "id": "be7ae6c5-9de1-4960-8213-5677f5abd2bc",
   "metadata": {
    "tags": []
   },
   "outputs": [],
   "source": []
  },
  {
   "cell_type": "code",
   "execution_count": null,
   "id": "63bd2764-137b-42ff-b126-058df3ecb1e3",
   "metadata": {},
   "outputs": [],
   "source": []
  }
 ],
 "metadata": {
  "kernelspec": {
   "display_name": "Python 3 (ipykernel)",
   "language": "python",
   "name": "python3"
  },
  "language_info": {
   "codemirror_mode": {
    "name": "ipython",
    "version": 3
   },
   "file_extension": ".py",
   "mimetype": "text/x-python",
   "name": "python",
   "nbconvert_exporter": "python",
   "pygments_lexer": "ipython3",
   "version": "3.10.11"
  }
 },
 "nbformat": 4,
 "nbformat_minor": 5
}
