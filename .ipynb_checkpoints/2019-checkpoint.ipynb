{
 "cells": [
  {
   "cell_type": "code",
   "execution_count": null,
   "id": "38f4c95e-6220-499c-8e58-ee1eda32e916",
   "metadata": {},
   "outputs": [],
   "source": [
    "import pandas as pd\n",
    "from itertools import cycle"
   ]
  },
  {
   "cell_type": "code",
   "execution_count": null,
   "id": "b069db13-bc78-4bf6-9f50-87d584849593",
   "metadata": {},
   "outputs": [],
   "source": [
    "July 2019"
   ]
  },
  {
   "cell_type": "code",
   "execution_count": null,
   "id": "a21b6dd4-57df-4f5f-ad5a-cfc66a4f62ff",
   "metadata": {},
   "outputs": [],
   "source": [
    "df1 = pd.read_csv('C:\\Users\\noyon\\Documents\\Tableau challengedata/2019/JC-201904-citibike-tripdata.csv')"
   ]
  }
 ],
 "metadata": {
  "kernelspec": {
   "display_name": "Python 3 (ipykernel)",
   "language": "python",
   "name": "python3"
  },
  "language_info": {
   "codemirror_mode": {
    "name": "ipython",
    "version": 3
   },
   "file_extension": ".py",
   "mimetype": "text/x-python",
   "name": "python",
   "nbconvert_exporter": "python",
   "pygments_lexer": "ipython3",
   "version": "3.10.11"
  }
 },
 "nbformat": 4,
 "nbformat_minor": 5
}
